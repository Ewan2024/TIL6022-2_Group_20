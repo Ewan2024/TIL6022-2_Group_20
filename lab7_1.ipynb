{
 "cells": [
  {
   "cell_type": "markdown",
   "id": "b6706545",
   "metadata": {},
   "source": [
    "# Lab 7: Versioning 1"
   ]
  },
  {
   "cell_type": "markdown",
   "id": "91c1048e",
   "metadata": {},
   "source": [
    "Answer the questions below.\n",
    "\n",
    "**Question 1: Which branch is the default when you clone a repository?**"
   ]
  },
  {
   "cell_type": "markdown",
   "id": "702f4cb3",
   "metadata": {},
   "source": [
    "Answer here."
   ]
  },
  {
   "cell_type": "markdown",
   "id": "fe792d7e",
   "metadata": {},
   "source": [
    "**Question 2: Navigate to the `Source Control` tab in VS Code. Add a screenshot of it. Describe the functions of the `changes` and `graph` sub tabs.**"
   ]
  },
  {
   "cell_type": "markdown",
   "id": "f542a54a",
   "metadata": {},
   "source": [
    "Answer here."
   ]
  },
  {
   "cell_type": "markdown",
   "id": "896cb8ea",
   "metadata": {},
   "source": [
    "**Question 3: Given the changes you have made in the set of files in the notebook for Part 2, when merging, what are the most likely conflicts we would get?**"
   ]
  },
  {
   "cell_type": "markdown",
   "id": "89d49075",
   "metadata": {},
   "source": [
    "Answer here."
   ]
  },
  {
   "cell_type": "markdown",
   "id": "11eca4a4",
   "metadata": {},
   "source": [
    "**Question 4: What are some ways to prevent merge conflicts?**\n"
   ]
  },
  {
   "cell_type": "markdown",
   "id": "c646077c",
   "metadata": {},
   "source": [
    "Answer here."
   ]
  },
  {
   "cell_type": "markdown",
   "id": "1f3cda74",
   "metadata": {},
   "source": [
    "**Question 5: After creating the group repo in Part 2, please add the link to the repo here.**"
   ]
  },
  {
   "cell_type": "markdown",
   "id": "b9a8f764",
   "metadata": {},
   "source": [
    "Input your repo link here: ### YOUR LINK HERE ###"
   ]
  },
  {
   "cell_type": "markdown",
   "id": "3c33aa2f",
   "metadata": {},
   "source": [
    "After answering these questions, please push your changes back into the remote repository."
   ]
  },
  {
   "cell_type": "code",
   "execution_count": 5,
   "id": "8732c9c7",
   "metadata": {},
   "outputs": [
    {
     "name": "stdout",
     "output_type": "stream",
     "text": [
      "[sheikharfahmibinsheikharzimi 8eaa62f] Testing by sheikharfahmibinsheikharzimi\n",
      " 1 file changed, 47 insertions(+), 1 deletion(-)\n"
     ]
    }
   ],
   "source": [
    "!git add .\n",
    "!git commit -m \"Testing by sheikharfahmibinsheikharzimi\""
   ]
  },
  {
   "cell_type": "code",
   "execution_count": 8,
   "id": "386657a6",
   "metadata": {},
   "outputs": [
    {
     "name": "stdout",
     "output_type": "stream",
     "text": [
      "Enumerating objects: 5, done.\n",
      "Counting objects: 100% (5/5), done.\n",
      "Delta compression using up to 8 threads\n",
      "Compressing objects: 100% (2/2), done.\n",
      "Writing objects: 100% (3/3), 685 bytes | 685.00 KiB/s, done.\n",
      "Total 3 (delta 1), reused 0 (delta 0), pack-reused 0\n",
      "remote: Resolving deltas: 100% (1/1), completed with 1 local object.\u001b[K\n",
      "remote: \n",
      "remote: Create a pull request for 'sheikharfahmibinsheikharzimi' on GitHub by visiting:\u001b[K\n",
      "remote:      https://github.com/Ewan2024/TIL6022-2_Group_20/pull/new/sheikharfahmibinsheikharzimi\u001b[K\n",
      "remote: \n",
      "To https://github.com/Ewan2024/TIL6022-2_Group_20.git\n",
      " * [new branch]      sheikharfahmibinsheikharzimi -> sheikharfahmibinsheikharzimi\n"
     ]
    }
   ],
   "source": [
    "!git push origin sheikharfahmibinsheikharzimi\n"
   ]
  },
  {
   "cell_type": "code",
   "execution_count": null,
   "id": "78400713",
   "metadata": {},
   "outputs": [],
   "source": []
  }
 ],
 "metadata": {
  "kernelspec": {
   "display_name": "TIL6022-25",
   "language": "python",
   "name": "python3"
  },
  "language_info": {
   "codemirror_mode": {
    "name": "ipython",
    "version": 3
   },
   "file_extension": ".py",
   "mimetype": "text/x-python",
   "name": "python",
   "nbconvert_exporter": "python",
   "pygments_lexer": "ipython3",
   "version": "3.13.5"
  }
 },
 "nbformat": 4,
 "nbformat_minor": 5
}
